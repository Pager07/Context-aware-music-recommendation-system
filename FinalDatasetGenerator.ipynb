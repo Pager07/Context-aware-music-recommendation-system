{
  "nbformat": 4,
  "nbformat_minor": 0,
  "metadata": {
    "colab": {
      "name": "Untitled13.ipynb",
      "provenance": [],
      "authorship_tag": "ABX9TyP91cTaXcMrN5ANIaO4yqDQ",
      "include_colab_link": true
    },
    "kernelspec": {
      "name": "python3",
      "display_name": "Python 3"
    },
    "accelerator": "GPU"
  },
  "cells": [
    {
      "cell_type": "markdown",
      "metadata": {
        "id": "view-in-github",
        "colab_type": "text"
      },
      "source": [
        "<a href=\"https://colab.research.google.com/github/Pager07/Recommender/blob/master/FinalDatasetGenerator.ipynb\" target=\"_parent\"><img src=\"https://colab.research.google.com/assets/colab-badge.svg\" alt=\"Open In Colab\"/></a>"
      ]
    },
    {
      "cell_type": "code",
      "metadata": {
        "id": "Cj0rbHWoBTYY",
        "colab_type": "code",
        "colab": {}
      },
      "source": [
        "from google.colab import drive\n",
        "from  pathlib import Path\n",
        "import pandas as pd\n"
      ],
      "execution_count": 0,
      "outputs": []
    },
    {
      "cell_type": "code",
      "metadata": {
        "id": "uTLk0zPjG53_",
        "colab_type": "code",
        "colab": {
          "base_uri": "https://localhost:8080/",
          "height": 122
        },
        "outputId": "5bb85831-3d94-461e-ccf9-48e10d97077c"
      },
      "source": [
        "drive.mount('/content/gdrive' , force_remount=True)\n"
      ],
      "execution_count": 2,
      "outputs": [
        {
          "output_type": "stream",
          "text": [
            "Go to this URL in a browser: https://accounts.google.com/o/oauth2/auth?client_id=947318989803-6bn6qk8qdgf4n4g3pfee6491hc0brc4i.apps.googleusercontent.com&redirect_uri=urn%3aietf%3awg%3aoauth%3a2.0%3aoob&response_type=code&scope=email%20https%3a%2f%2fwww.googleapis.com%2fauth%2fdocs.test%20https%3a%2f%2fwww.googleapis.com%2fauth%2fdrive%20https%3a%2f%2fwww.googleapis.com%2fauth%2fdrive.photos.readonly%20https%3a%2f%2fwww.googleapis.com%2fauth%2fpeopleapi.readonly\n",
            "\n",
            "Enter your authorization code:\n",
            "··········\n",
            "Mounted at /content/gdrive\n"
          ],
          "name": "stdout"
        }
      ]
    },
    {
      "cell_type": "code",
      "metadata": {
        "id": "DYVrcarCG9An",
        "colab_type": "code",
        "colab": {}
      },
      "source": [
        "root_dir = '/content/gdrive/My Drive/My Notes/3rd year/CCS/RecommenderSystem/Homework'"
      ],
      "execution_count": 0,
      "outputs": []
    },
    {
      "cell_type": "code",
      "metadata": {
        "id": "5LnDBMzeHIyL",
        "colab_type": "code",
        "colab": {}
      },
      "source": [
        "path = Path(root_dir)"
      ],
      "execution_count": 0,
      "outputs": []
    },
    {
      "cell_type": "code",
      "metadata": {
        "id": "y07ZyXP0HOas",
        "colab_type": "code",
        "colab": {}
      },
      "source": [
        "df4 = pd.read_csv(path/'nowplayingRSFiltered.csv')"
      ],
      "execution_count": 0,
      "outputs": []
    },
    {
      "cell_type": "code",
      "metadata": {
        "id": "q6vPaXnQILTT",
        "colab_type": "code",
        "colab": {
          "base_uri": "https://localhost:8080/",
          "height": 34
        },
        "outputId": "a9d2b53b-6902-4dd3-f357-f4610735fbca"
      },
      "source": [
        "df4['user_id'][0]"
      ],
      "execution_count": 17,
      "outputs": [
        {
          "output_type": "execute_result",
          "data": {
            "text/plain": [
              "252330820"
            ]
          },
          "metadata": {
            "tags": []
          },
          "execution_count": 17
        }
      ]
    },
    {
      "cell_type": "code",
      "metadata": {
        "id": "z0HO4txeKrhZ",
        "colab_type": "code",
        "colab": {
          "base_uri": "https://localhost:8080/",
          "height": 34
        },
        "outputId": "98b14275-fba2-45f9-8541-7a89fdc5912b"
      },
      "source": [
        "len(df4.index)"
      ],
      "execution_count": 18,
      "outputs": [
        {
          "output_type": "execute_result",
          "data": {
            "text/plain": [
              "3037321"
            ]
          },
          "metadata": {
            "tags": []
          },
          "execution_count": 18
        }
      ]
    },
    {
      "cell_type": "code",
      "metadata": {
        "id": "JUrpDDLzLaJM",
        "colab_type": "code",
        "colab": {}
      },
      "source": [
        "total_df = df4.groupby(['user_id' ,'sentiment_score']).count()"
      ],
      "execution_count": 0,
      "outputs": []
    },
    {
      "cell_type": "code",
      "metadata": {
        "id": "KQXWE-DwyBEV",
        "colab_type": "code",
        "colab": {}
      },
      "source": [
        "total_df = total_df.filter(like='hashtag')"
      ],
      "execution_count": 0,
      "outputs": []
    },
    {
      "cell_type": "code",
      "metadata": {
        "id": "-VHERPQhyUD-",
        "colab_type": "code",
        "colab": {
          "base_uri": "https://localhost:8080/",
          "height": 102
        },
        "outputId": "7695d81b-fc9b-4d9e-fd9d-1409112f7bbd"
      },
      "source": [
        "total_df.rename(columns={\"hashtag\":'totalCounts'} , inplace=True)"
      ],
      "execution_count": 84,
      "outputs": [
        {
          "output_type": "stream",
          "text": [
            "/usr/local/lib/python3.6/dist-packages/pandas/core/frame.py:4238: SettingWithCopyWarning: \n",
            "A value is trying to be set on a copy of a slice from a DataFrame\n",
            "\n",
            "See the caveats in the documentation: http://pandas.pydata.org/pandas-docs/stable/user_guide/indexing.html#returning-a-view-versus-a-copy\n",
            "  return super().rename(**kwargs)\n"
          ],
          "name": "stderr"
        }
      ]
    },
    {
      "cell_type": "code",
      "metadata": {
        "id": "uuah8US5znRT",
        "colab_type": "code",
        "colab": {
          "base_uri": "https://localhost:8080/",
          "height": 450
        },
        "outputId": "39ced62a-1718-4418-ef13-55662277f445"
      },
      "source": [
        "total_df"
      ],
      "execution_count": 85,
      "outputs": [
        {
          "output_type": "execute_result",
          "data": {
            "text/html": [
              "<div>\n",
              "<style scoped>\n",
              "    .dataframe tbody tr th:only-of-type {\n",
              "        vertical-align: middle;\n",
              "    }\n",
              "\n",
              "    .dataframe tbody tr th {\n",
              "        vertical-align: top;\n",
              "    }\n",
              "\n",
              "    .dataframe thead th {\n",
              "        text-align: right;\n",
              "    }\n",
              "</style>\n",
              "<table border=\"1\" class=\"dataframe\">\n",
              "  <thead>\n",
              "    <tr style=\"text-align: right;\">\n",
              "      <th></th>\n",
              "      <th></th>\n",
              "      <th>totalCounts</th>\n",
              "    </tr>\n",
              "    <tr>\n",
              "      <th>user_id</th>\n",
              "      <th>sentiment_score</th>\n",
              "      <th></th>\n",
              "    </tr>\n",
              "  </thead>\n",
              "  <tbody>\n",
              "    <tr>\n",
              "      <th>10516</th>\n",
              "      <th>0.6</th>\n",
              "      <td>26</td>\n",
              "    </tr>\n",
              "    <tr>\n",
              "      <th>46963</th>\n",
              "      <th>0.6</th>\n",
              "      <td>3</td>\n",
              "    </tr>\n",
              "    <tr>\n",
              "      <th>61323</th>\n",
              "      <th>0.6</th>\n",
              "      <td>7</td>\n",
              "    </tr>\n",
              "    <tr>\n",
              "      <th>212913</th>\n",
              "      <th>0.6</th>\n",
              "      <td>7</td>\n",
              "    </tr>\n",
              "    <tr>\n",
              "      <th>432093</th>\n",
              "      <th>0.6</th>\n",
              "      <td>1</td>\n",
              "    </tr>\n",
              "    <tr>\n",
              "      <th>...</th>\n",
              "      <th>...</th>\n",
              "      <td>...</td>\n",
              "    </tr>\n",
              "    <tr>\n",
              "      <th>2917583775</th>\n",
              "      <th>0.6</th>\n",
              "      <td>1</td>\n",
              "    </tr>\n",
              "    <tr>\n",
              "      <th>2919818664</th>\n",
              "      <th>0.6</th>\n",
              "      <td>2</td>\n",
              "    </tr>\n",
              "    <tr>\n",
              "      <th>2927413249</th>\n",
              "      <th>0.6</th>\n",
              "      <td>1</td>\n",
              "    </tr>\n",
              "    <tr>\n",
              "      <th>2931157471</th>\n",
              "      <th>0.6</th>\n",
              "      <td>1</td>\n",
              "    </tr>\n",
              "    <tr>\n",
              "      <th>2931814622</th>\n",
              "      <th>0.6</th>\n",
              "      <td>1</td>\n",
              "    </tr>\n",
              "  </tbody>\n",
              "</table>\n",
              "<p>16121 rows × 1 columns</p>\n",
              "</div>"
            ],
            "text/plain": [
              "                            totalCounts\n",
              "user_id    sentiment_score             \n",
              "10516      0.6                       26\n",
              "46963      0.6                        3\n",
              "61323      0.6                        7\n",
              "212913     0.6                        7\n",
              "432093     0.6                        1\n",
              "...                                 ...\n",
              "2917583775 0.6                        1\n",
              "2919818664 0.6                        2\n",
              "2927413249 0.6                        1\n",
              "2931157471 0.6                        1\n",
              "2931814622 0.6                        1\n",
              "\n",
              "[16121 rows x 1 columns]"
            ]
          },
          "metadata": {
            "tags": []
          },
          "execution_count": 85
        }
      ]
    },
    {
      "cell_type": "code",
      "metadata": {
        "id": "E9GpSBPZ0E1e",
        "colab_type": "code",
        "colab": {}
      },
      "source": [
        "count_df = df4.groupby(['user_id' ,'sentiment_score', 'track_id']).count()"
      ],
      "execution_count": 0,
      "outputs": []
    },
    {
      "cell_type": "code",
      "metadata": {
        "id": "CXtujqHX0sxE",
        "colab_type": "code",
        "colab": {}
      },
      "source": [
        "count_df = count_df.filter(like='hashtag')"
      ],
      "execution_count": 0,
      "outputs": []
    },
    {
      "cell_type": "code",
      "metadata": {
        "id": "vmfFJOFW04KP",
        "colab_type": "code",
        "colab": {
          "base_uri": "https://localhost:8080/",
          "height": 102
        },
        "outputId": "11b74404-3119-4f9a-fe7b-7affe97020e3"
      },
      "source": [
        "count_df.rename(columns={'hashtag':'count'}, inplace=True)"
      ],
      "execution_count": 91,
      "outputs": [
        {
          "output_type": "stream",
          "text": [
            "/usr/local/lib/python3.6/dist-packages/pandas/core/frame.py:4238: SettingWithCopyWarning: \n",
            "A value is trying to be set on a copy of a slice from a DataFrame\n",
            "\n",
            "See the caveats in the documentation: http://pandas.pydata.org/pandas-docs/stable/user_guide/indexing.html#returning-a-view-versus-a-copy\n",
            "  return super().rename(**kwargs)\n"
          ],
          "name": "stderr"
        }
      ]
    },
    {
      "cell_type": "code",
      "metadata": {
        "id": "HfYxQD6n1Vv2",
        "colab_type": "code",
        "colab": {
          "base_uri": "https://localhost:8080/",
          "height": 450
        },
        "outputId": "072c33b4-1965-4d75-b476-f20c26afb499"
      },
      "source": [
        "count_df"
      ],
      "execution_count": 102,
      "outputs": [
        {
          "output_type": "execute_result",
          "data": {
            "text/html": [
              "<div>\n",
              "<style scoped>\n",
              "    .dataframe tbody tr th:only-of-type {\n",
              "        vertical-align: middle;\n",
              "    }\n",
              "\n",
              "    .dataframe tbody tr th {\n",
              "        vertical-align: top;\n",
              "    }\n",
              "\n",
              "    .dataframe thead th {\n",
              "        text-align: right;\n",
              "    }\n",
              "</style>\n",
              "<table border=\"1\" class=\"dataframe\">\n",
              "  <thead>\n",
              "    <tr style=\"text-align: right;\">\n",
              "      <th></th>\n",
              "      <th></th>\n",
              "      <th></th>\n",
              "      <th>count</th>\n",
              "      <th>totalCounts</th>\n",
              "      <th>rating</th>\n",
              "    </tr>\n",
              "    <tr>\n",
              "      <th>user_id</th>\n",
              "      <th>sentiment_score</th>\n",
              "      <th>track_id</th>\n",
              "      <th></th>\n",
              "      <th></th>\n",
              "      <th></th>\n",
              "    </tr>\n",
              "  </thead>\n",
              "  <tbody>\n",
              "    <tr>\n",
              "      <th rowspan=\"5\" valign=\"top\">10516</th>\n",
              "      <th rowspan=\"5\" valign=\"top\">0.6</th>\n",
              "      <th>24f8a2ff1ae05c040dc9ade279d1e0ce</th>\n",
              "      <td>1</td>\n",
              "      <td>26</td>\n",
              "      <td>0.038462</td>\n",
              "    </tr>\n",
              "    <tr>\n",
              "      <th>28af246d5ebc695d4c1d00ee068d51dd</th>\n",
              "      <td>1</td>\n",
              "      <td>26</td>\n",
              "      <td>0.038462</td>\n",
              "    </tr>\n",
              "    <tr>\n",
              "      <th>29e8879e46f489c425df0e182ea7c055</th>\n",
              "      <td>1</td>\n",
              "      <td>26</td>\n",
              "      <td>0.038462</td>\n",
              "    </tr>\n",
              "    <tr>\n",
              "      <th>3bb526f1551d9a574cfdf66982b36515</th>\n",
              "      <td>1</td>\n",
              "      <td>26</td>\n",
              "      <td>0.038462</td>\n",
              "    </tr>\n",
              "    <tr>\n",
              "      <th>3ff62e21f5d43d7acf2bb96d311f4e13</th>\n",
              "      <td>1</td>\n",
              "      <td>26</td>\n",
              "      <td>0.038462</td>\n",
              "    </tr>\n",
              "    <tr>\n",
              "      <th>...</th>\n",
              "      <th>...</th>\n",
              "      <th>...</th>\n",
              "      <td>...</td>\n",
              "      <td>...</td>\n",
              "      <td>...</td>\n",
              "    </tr>\n",
              "    <tr>\n",
              "      <th rowspan=\"2\" valign=\"top\">2919818664</th>\n",
              "      <th rowspan=\"2\" valign=\"top\">0.6</th>\n",
              "      <th>be007b5eacd7295818a8be9a3af73af8</th>\n",
              "      <td>1</td>\n",
              "      <td>2</td>\n",
              "      <td>0.500000</td>\n",
              "    </tr>\n",
              "    <tr>\n",
              "      <th>e30b730c3c65a9c64cce3678d96acb2d</th>\n",
              "      <td>1</td>\n",
              "      <td>2</td>\n",
              "      <td>0.500000</td>\n",
              "    </tr>\n",
              "    <tr>\n",
              "      <th>2927413249</th>\n",
              "      <th>0.6</th>\n",
              "      <th>7e990a8aa257e609955cc93917f9a0db</th>\n",
              "      <td>1</td>\n",
              "      <td>1</td>\n",
              "      <td>1.000000</td>\n",
              "    </tr>\n",
              "    <tr>\n",
              "      <th>2931157471</th>\n",
              "      <th>0.6</th>\n",
              "      <th>b8a3f91b002f98603ab6dd7589fbeb70</th>\n",
              "      <td>1</td>\n",
              "      <td>1</td>\n",
              "      <td>1.000000</td>\n",
              "    </tr>\n",
              "    <tr>\n",
              "      <th>2931814622</th>\n",
              "      <th>0.6</th>\n",
              "      <th>2969342931478408f2e881a73c8557e3</th>\n",
              "      <td>1</td>\n",
              "      <td>1</td>\n",
              "      <td>1.000000</td>\n",
              "    </tr>\n",
              "  </tbody>\n",
              "</table>\n",
              "<p>261150 rows × 3 columns</p>\n",
              "</div>"
            ],
            "text/plain": [
              "                                                             count  ...    rating\n",
              "user_id    sentiment_score track_id                                 ...          \n",
              "10516      0.6             24f8a2ff1ae05c040dc9ade279d1e0ce      1  ...  0.038462\n",
              "                           28af246d5ebc695d4c1d00ee068d51dd      1  ...  0.038462\n",
              "                           29e8879e46f489c425df0e182ea7c055      1  ...  0.038462\n",
              "                           3bb526f1551d9a574cfdf66982b36515      1  ...  0.038462\n",
              "                           3ff62e21f5d43d7acf2bb96d311f4e13      1  ...  0.038462\n",
              "...                                                            ...  ...       ...\n",
              "2919818664 0.6             be007b5eacd7295818a8be9a3af73af8      1  ...  0.500000\n",
              "                           e30b730c3c65a9c64cce3678d96acb2d      1  ...  0.500000\n",
              "2927413249 0.6             7e990a8aa257e609955cc93917f9a0db      1  ...  1.000000\n",
              "2931157471 0.6             b8a3f91b002f98603ab6dd7589fbeb70      1  ...  1.000000\n",
              "2931814622 0.6             2969342931478408f2e881a73c8557e3      1  ...  1.000000\n",
              "\n",
              "[261150 rows x 3 columns]"
            ]
          },
          "metadata": {
            "tags": []
          },
          "execution_count": 102
        }
      ]
    },
    {
      "cell_type": "code",
      "metadata": {
        "id": "ZbuuR82o4dQh",
        "colab_type": "code",
        "colab": {}
      },
      "source": [
        "count_df = count_df.join(total_df , on=['user_id' , 'sentiment_score'],how='inner')"
      ],
      "execution_count": 0,
      "outputs": []
    },
    {
      "cell_type": "code",
      "metadata": {
        "id": "ypzMFEe91dk1",
        "colab_type": "code",
        "colab": {}
      },
      "source": [
        "count_df['rating'] = count_df['count']/ count_df['totalCounts']"
      ],
      "execution_count": 0,
      "outputs": []
    },
    {
      "cell_type": "code",
      "metadata": {
        "id": "5zY2gHNH81Fy",
        "colab_type": "code",
        "colab": {}
      },
      "source": [
        "df4 =df4.merge(count_df , on=['user_id' , 'sentiment_score' , 'track_id'] , how='inner')"
      ],
      "execution_count": 0,
      "outputs": []
    },
    {
      "cell_type": "code",
      "metadata": {
        "id": "tqVZ7TOn9cRO",
        "colab_type": "code",
        "colab": {
          "base_uri": "https://localhost:8080/",
          "height": 677
        },
        "outputId": "88f88bad-beea-44ea-9960-131973233ec9"
      },
      "source": [
        "df4"
      ],
      "execution_count": 105,
      "outputs": [
        {
          "output_type": "execute_result",
          "data": {
            "text/html": [
              "<div>\n",
              "<style scoped>\n",
              "    .dataframe tbody tr th:only-of-type {\n",
              "        vertical-align: middle;\n",
              "    }\n",
              "\n",
              "    .dataframe tbody tr th {\n",
              "        vertical-align: top;\n",
              "    }\n",
              "\n",
              "    .dataframe thead th {\n",
              "        text-align: right;\n",
              "    }\n",
              "</style>\n",
              "<table border=\"1\" class=\"dataframe\">\n",
              "  <thead>\n",
              "    <tr style=\"text-align: right;\">\n",
              "      <th></th>\n",
              "      <th>hashtag</th>\n",
              "      <th>sentiment_score</th>\n",
              "      <th>user_id</th>\n",
              "      <th>track_id</th>\n",
              "      <th>created_at</th>\n",
              "      <th>instrumentalness</th>\n",
              "      <th>liveness</th>\n",
              "      <th>speechiness</th>\n",
              "      <th>danceability</th>\n",
              "      <th>valence</th>\n",
              "      <th>loudness</th>\n",
              "      <th>tempo</th>\n",
              "      <th>acousticness</th>\n",
              "      <th>energy</th>\n",
              "      <th>mode</th>\n",
              "      <th>key</th>\n",
              "      <th>artist_id</th>\n",
              "      <th>tweet_lang</th>\n",
              "      <th>lang</th>\n",
              "      <th>time_zone</th>\n",
              "      <th>count</th>\n",
              "      <th>totalCounts</th>\n",
              "      <th>rating</th>\n",
              "    </tr>\n",
              "  </thead>\n",
              "  <tbody>\n",
              "    <tr>\n",
              "      <th>0</th>\n",
              "      <td>greatmusic</td>\n",
              "      <td>0.8</td>\n",
              "      <td>252330820</td>\n",
              "      <td>8f2ac86abb8bd48273c8fc95b632e347</td>\n",
              "      <td>2014-02-13 16:18:51</td>\n",
              "      <td>0.000000</td>\n",
              "      <td>0.1980</td>\n",
              "      <td>0.1690</td>\n",
              "      <td>0.461</td>\n",
              "      <td>0.502</td>\n",
              "      <td>-9.046</td>\n",
              "      <td>143.055</td>\n",
              "      <td>0.1000</td>\n",
              "      <td>0.628</td>\n",
              "      <td>0</td>\n",
              "      <td>4.0</td>\n",
              "      <td>1a17d5f8af99355edd8a92679a02cb0d</td>\n",
              "      <td>en</td>\n",
              "      <td>en</td>\n",
              "      <td>Eastern Time (US &amp; Canada)</td>\n",
              "      <td>1</td>\n",
              "      <td>1</td>\n",
              "      <td>1.000000</td>\n",
              "    </tr>\n",
              "    <tr>\n",
              "      <th>1</th>\n",
              "      <td>greatmusic</td>\n",
              "      <td>0.8</td>\n",
              "      <td>29235188</td>\n",
              "      <td>45bbd6d7cd65dc77596af8c5c0b89a70</td>\n",
              "      <td>2014-05-15 20:38:46</td>\n",
              "      <td>0.000010</td>\n",
              "      <td>0.0454</td>\n",
              "      <td>0.0451</td>\n",
              "      <td>0.677</td>\n",
              "      <td>0.886</td>\n",
              "      <td>-13.237</td>\n",
              "      <td>77.837</td>\n",
              "      <td>0.0313</td>\n",
              "      <td>0.544</td>\n",
              "      <td>0</td>\n",
              "      <td>11.0</td>\n",
              "      <td>4a4e2ab094a4521b06252e9fdaf1fd0a</td>\n",
              "      <td>en</td>\n",
              "      <td>en</td>\n",
              "      <td>Eastern Time (US &amp; Canada)</td>\n",
              "      <td>1</td>\n",
              "      <td>1</td>\n",
              "      <td>1.000000</td>\n",
              "    </tr>\n",
              "    <tr>\n",
              "      <th>2</th>\n",
              "      <td>nowplaying</td>\n",
              "      <td>0.6</td>\n",
              "      <td>29235188</td>\n",
              "      <td>45bbd6d7cd65dc77596af8c5c0b89a70</td>\n",
              "      <td>2014-05-15 20:38:46</td>\n",
              "      <td>0.000010</td>\n",
              "      <td>0.0454</td>\n",
              "      <td>0.0451</td>\n",
              "      <td>0.677</td>\n",
              "      <td>0.886</td>\n",
              "      <td>-13.237</td>\n",
              "      <td>77.837</td>\n",
              "      <td>0.0313</td>\n",
              "      <td>0.544</td>\n",
              "      <td>0</td>\n",
              "      <td>11.0</td>\n",
              "      <td>4a4e2ab094a4521b06252e9fdaf1fd0a</td>\n",
              "      <td>en</td>\n",
              "      <td>en</td>\n",
              "      <td>Eastern Time (US &amp; Canada)</td>\n",
              "      <td>1</td>\n",
              "      <td>29</td>\n",
              "      <td>0.034483</td>\n",
              "    </tr>\n",
              "    <tr>\n",
              "      <th>3</th>\n",
              "      <td>greatmusic</td>\n",
              "      <td>0.8</td>\n",
              "      <td>195485165</td>\n",
              "      <td>6d45097acaaf6ed5ee55041f53249fa0</td>\n",
              "      <td>2014-10-22 18:36:54</td>\n",
              "      <td>0.000000</td>\n",
              "      <td>0.0769</td>\n",
              "      <td>0.0427</td>\n",
              "      <td>0.591</td>\n",
              "      <td>0.422</td>\n",
              "      <td>-6.315</td>\n",
              "      <td>100.063</td>\n",
              "      <td>0.0171</td>\n",
              "      <td>0.746</td>\n",
              "      <td>1</td>\n",
              "      <td>11.0</td>\n",
              "      <td>f78fb5a7ddce990521f685522f3f8fce</td>\n",
              "      <td>en</td>\n",
              "      <td>en</td>\n",
              "      <td>London</td>\n",
              "      <td>1</td>\n",
              "      <td>1</td>\n",
              "      <td>1.000000</td>\n",
              "    </tr>\n",
              "    <tr>\n",
              "      <th>4</th>\n",
              "      <td>rockballad</td>\n",
              "      <td>0.7</td>\n",
              "      <td>188975564</td>\n",
              "      <td>828640fcb17f9d85abb44db7f3160ebc</td>\n",
              "      <td>2014-05-17 06:27:35</td>\n",
              "      <td>0.000000</td>\n",
              "      <td>0.0845</td>\n",
              "      <td>0.0328</td>\n",
              "      <td>0.452</td>\n",
              "      <td>0.152</td>\n",
              "      <td>-10.092</td>\n",
              "      <td>140.402</td>\n",
              "      <td>0.1790</td>\n",
              "      <td>0.490</td>\n",
              "      <td>1</td>\n",
              "      <td>3.0</td>\n",
              "      <td>a462c8874b0b12c7c598d2083e0f0c6c</td>\n",
              "      <td>en</td>\n",
              "      <td>en</td>\n",
              "      <td>Monterrey</td>\n",
              "      <td>1</td>\n",
              "      <td>3</td>\n",
              "      <td>0.333333</td>\n",
              "    </tr>\n",
              "    <tr>\n",
              "      <th>...</th>\n",
              "      <td>...</td>\n",
              "      <td>...</td>\n",
              "      <td>...</td>\n",
              "      <td>...</td>\n",
              "      <td>...</td>\n",
              "      <td>...</td>\n",
              "      <td>...</td>\n",
              "      <td>...</td>\n",
              "      <td>...</td>\n",
              "      <td>...</td>\n",
              "      <td>...</td>\n",
              "      <td>...</td>\n",
              "      <td>...</td>\n",
              "      <td>...</td>\n",
              "      <td>...</td>\n",
              "      <td>...</td>\n",
              "      <td>...</td>\n",
              "      <td>...</td>\n",
              "      <td>...</td>\n",
              "      <td>...</td>\n",
              "      <td>...</td>\n",
              "      <td>...</td>\n",
              "      <td>...</td>\n",
              "    </tr>\n",
              "    <tr>\n",
              "      <th>3037316</th>\n",
              "      <td>ratboy</td>\n",
              "      <td>0.3</td>\n",
              "      <td>1327151365</td>\n",
              "      <td>9ececd20ecdb436fbe955afe6d59e43b</td>\n",
              "      <td>2014-04-09 11:31:42</td>\n",
              "      <td>0.000000</td>\n",
              "      <td>0.0631</td>\n",
              "      <td>0.0645</td>\n",
              "      <td>0.528</td>\n",
              "      <td>0.437</td>\n",
              "      <td>-6.134</td>\n",
              "      <td>149.183</td>\n",
              "      <td>0.0354</td>\n",
              "      <td>0.814</td>\n",
              "      <td>1</td>\n",
              "      <td>9.0</td>\n",
              "      <td>3bb08d4096d25acc220f56860cea6152</td>\n",
              "      <td>en</td>\n",
              "      <td>en</td>\n",
              "      <td>Amsterdam</td>\n",
              "      <td>1</td>\n",
              "      <td>1</td>\n",
              "      <td>1.000000</td>\n",
              "    </tr>\n",
              "    <tr>\n",
              "      <th>3037317</th>\n",
              "      <td>totallyinlovewiththisvoice</td>\n",
              "      <td>0.8</td>\n",
              "      <td>201039912</td>\n",
              "      <td>d3048655ffc66273576a27b6f5c901ff</td>\n",
              "      <td>2014-07-30 11:13:23</td>\n",
              "      <td>0.000001</td>\n",
              "      <td>0.1230</td>\n",
              "      <td>0.0278</td>\n",
              "      <td>0.269</td>\n",
              "      <td>0.344</td>\n",
              "      <td>-7.361</td>\n",
              "      <td>69.830</td>\n",
              "      <td>0.0590</td>\n",
              "      <td>0.572</td>\n",
              "      <td>0</td>\n",
              "      <td>9.0</td>\n",
              "      <td>7b8e61e2831286355c0508034f43a37d</td>\n",
              "      <td>es</td>\n",
              "      <td>en</td>\n",
              "      <td>Madrid</td>\n",
              "      <td>1</td>\n",
              "      <td>3</td>\n",
              "      <td>0.333333</td>\n",
              "    </tr>\n",
              "    <tr>\n",
              "      <th>3037318</th>\n",
              "      <td>missthedays</td>\n",
              "      <td>0.3</td>\n",
              "      <td>7659902</td>\n",
              "      <td>2f88d4a5160f4a5fcc6d8393dbaad15a</td>\n",
              "      <td>2014-05-25 05:55:26</td>\n",
              "      <td>0.000155</td>\n",
              "      <td>0.0975</td>\n",
              "      <td>0.0295</td>\n",
              "      <td>0.624</td>\n",
              "      <td>0.797</td>\n",
              "      <td>-5.710</td>\n",
              "      <td>104.055</td>\n",
              "      <td>0.0223</td>\n",
              "      <td>0.899</td>\n",
              "      <td>1</td>\n",
              "      <td>0.0</td>\n",
              "      <td>f2cfae8acc398204eb278d715045940d</td>\n",
              "      <td>sk</td>\n",
              "      <td>en</td>\n",
              "      <td>Lima</td>\n",
              "      <td>1</td>\n",
              "      <td>1</td>\n",
              "      <td>1.000000</td>\n",
              "    </tr>\n",
              "    <tr>\n",
              "      <th>3037319</th>\n",
              "      <td>numb</td>\n",
              "      <td>0.3</td>\n",
              "      <td>364559651</td>\n",
              "      <td>6037484d261ee9a8b4bb5d4b966f3844</td>\n",
              "      <td>2014-10-21 03:30:04</td>\n",
              "      <td>0.000302</td>\n",
              "      <td>0.1140</td>\n",
              "      <td>0.0273</td>\n",
              "      <td>0.546</td>\n",
              "      <td>0.177</td>\n",
              "      <td>-7.515</td>\n",
              "      <td>92.023</td>\n",
              "      <td>0.6200</td>\n",
              "      <td>0.404</td>\n",
              "      <td>0</td>\n",
              "      <td>9.0</td>\n",
              "      <td>edefbe931fbf98c711ca6893bb175683</td>\n",
              "      <td>en</td>\n",
              "      <td>en</td>\n",
              "      <td>Alaska</td>\n",
              "      <td>1</td>\n",
              "      <td>1</td>\n",
              "      <td>1.000000</td>\n",
              "    </tr>\n",
              "    <tr>\n",
              "      <th>3037320</th>\n",
              "      <td>warpaint</td>\n",
              "      <td>0.2</td>\n",
              "      <td>150938854</td>\n",
              "      <td>007473293651cf358edadae0c7baa85f</td>\n",
              "      <td>2014-09-12 02:03:14</td>\n",
              "      <td>0.223000</td>\n",
              "      <td>0.1030</td>\n",
              "      <td>0.0287</td>\n",
              "      <td>0.540</td>\n",
              "      <td>0.255</td>\n",
              "      <td>-6.464</td>\n",
              "      <td>105.463</td>\n",
              "      <td>0.0921</td>\n",
              "      <td>0.816</td>\n",
              "      <td>0</td>\n",
              "      <td>11.0</td>\n",
              "      <td>bdcb03e6f6d6cf75da11799b95a113cc</td>\n",
              "      <td>en</td>\n",
              "      <td>en</td>\n",
              "      <td>Pacific Time (US &amp; Canada)</td>\n",
              "      <td>1</td>\n",
              "      <td>1</td>\n",
              "      <td>1.000000</td>\n",
              "    </tr>\n",
              "  </tbody>\n",
              "</table>\n",
              "<p>3037321 rows × 23 columns</p>\n",
              "</div>"
            ],
            "text/plain": [
              "                            hashtag  sentiment_score  ...  totalCounts    rating\n",
              "0                        greatmusic              0.8  ...            1  1.000000\n",
              "1                        greatmusic              0.8  ...            1  1.000000\n",
              "2                        nowplaying              0.6  ...           29  0.034483\n",
              "3                        greatmusic              0.8  ...            1  1.000000\n",
              "4                        rockballad              0.7  ...            3  0.333333\n",
              "...                             ...              ...  ...          ...       ...\n",
              "3037316                      ratboy              0.3  ...            1  1.000000\n",
              "3037317  totallyinlovewiththisvoice              0.8  ...            3  0.333333\n",
              "3037318                 missthedays              0.3  ...            1  1.000000\n",
              "3037319                        numb              0.3  ...            1  1.000000\n",
              "3037320                    warpaint              0.2  ...            1  1.000000\n",
              "\n",
              "[3037321 rows x 23 columns]"
            ]
          },
          "metadata": {
            "tags": []
          },
          "execution_count": 105
        }
      ]
    },
    {
      "cell_type": "code",
      "metadata": {
        "id": "JPU7FpwE9-ko",
        "colab_type": "code",
        "colab": {}
      },
      "source": [
        "#Make all USA Timezone values consistent\n",
        "df4['time_zone'].replace('Eastern Time (US & Canada)', 'Eastern Time',inplace=True)\n",
        "df4['time_zone'].replace('Central Time (US & Canada)', 'Central Time',inplace=True)\n",
        "df4['time_zone'].replace('Pacific Time (US & Canada)', 'Pacific Time',inplace=True)\n",
        "df4['time_zone'].replace('Mountain Time (US & Canada)', 'Mountain Time',inplace=True)\n",
        "df4['time_zone'].replace('Alaska', 'Alaska Time',inplace=True)\n",
        "df4['time_zone'].replace('Hawaii', 'Hawaii Time',inplace=True)\n",
        "df4['time_zone'].replace('Arizona', 'Mountain Time',inplace=True)\n",
        "df4['time_zone'].replace('America/Chicago', 'Central Time',inplace=True)\n",
        "df4['time_zone'].replace('America/New_York', 'Eastern Time',inplace=True)\n",
        "df4['time_zone'].replace('America/Los_Angeles', 'Pacific Time',inplace=True)\n",
        "df4['time_zone'].replace('America/Denver', 'Mountain Time',inplace=True)\n",
        "df4['time_zone'].replace('America/Detroit', 'Eastern Time',inplace=True)"
      ],
      "execution_count": 0,
      "outputs": []
    },
    {
      "cell_type": "code",
      "metadata": {
        "id": "fIzUocSRBSyZ",
        "colab_type": "code",
        "colab": {
          "base_uri": "https://localhost:8080/",
          "height": 493
        },
        "outputId": "271a86be-8de5-4df8-9066-eaaab50071e8"
      },
      "source": [
        "#Limit dataset to only USA time zones\n",
        "df4 = df4.loc[~((df4['time_zone'] != 'Eastern Time') & (df4['time_zone'] != 'Central Time') & (df4['time_zone'] != 'Pacific Time') & \n",
        "               (df4['time_zone'] != 'Mountain Time') & (df4['time_zone'] != 'Alaska Time') & (df4['time_zone'] != 'Hawaii Time')),:]\n",
        "df4.info()"
      ],
      "execution_count": 107,
      "outputs": [
        {
          "output_type": "stream",
          "text": [
            "<class 'pandas.core.frame.DataFrame'>\n",
            "Int64Index: 2236319 entries, 0 to 3037320\n",
            "Data columns (total 23 columns):\n",
            "hashtag             object\n",
            "sentiment_score     float64\n",
            "user_id             int64\n",
            "track_id            object\n",
            "created_at          object\n",
            "instrumentalness    float64\n",
            "liveness            float64\n",
            "speechiness         float64\n",
            "danceability        float64\n",
            "valence             float64\n",
            "loudness            float64\n",
            "tempo               float64\n",
            "acousticness        float64\n",
            "energy              float64\n",
            "mode                int64\n",
            "key                 float64\n",
            "artist_id           object\n",
            "tweet_lang          object\n",
            "lang                object\n",
            "time_zone           object\n",
            "count               int64\n",
            "totalCounts         int64\n",
            "rating              float64\n",
            "dtypes: float64(12), int64(4), object(7)\n",
            "memory usage: 409.5+ MB\n"
          ],
          "name": "stdout"
        }
      ]
    },
    {
      "cell_type": "code",
      "metadata": {
        "id": "qrZmFxbXBVK7",
        "colab_type": "code",
        "colab": {}
      },
      "source": [
        ""
      ],
      "execution_count": 0,
      "outputs": []
    },
    {
      "cell_type": "code",
      "metadata": {
        "id": "dTBa8ya4BYrP",
        "colab_type": "code",
        "colab": {}
      },
      "source": [
        "df4 = df4[['user_id','track_id','sentiment_score','rating']]"
      ],
      "execution_count": 0,
      "outputs": []
    },
    {
      "cell_type": "code",
      "metadata": {
        "id": "vrAP3TcIB8q1",
        "colab_type": "code",
        "colab": {}
      },
      "source": [
        "df4.to_csv(path/'nowplayingFinal.csv')"
      ],
      "execution_count": 0,
      "outputs": []
    },
    {
      "cell_type": "code",
      "metadata": {
        "id": "6q4ErEANC4dA",
        "colab_type": "code",
        "colab": {}
      },
      "source": [
        ""
      ],
      "execution_count": 0,
      "outputs": []
    }
  ]
}